{
 "cells": [
  {
   "cell_type": "code",
   "execution_count": 13,
   "metadata": {},
   "outputs": [
    {
     "name": "stdout",
     "output_type": "stream",
     "text": [
      "Please enter the diameter of the Sphere: 8\n",
      "Volume of Sphere:  268.1173333333333\n"
     ]
    }
   ],
   "source": [
    "#Python program to find the volume of a sphere with diameter 12 cm.\n",
    "\n",
    "dia = int(input(\"Please enter the diameter of the Sphere: \"))\n",
    "radius =dia/2\n",
    "pi = 3.142\n",
    "volume = (4/3)*pi*(pow(radius,3))\n",
    "print(\"Volume of Sphere: \",volume)"
   ]
  },
  {
   "cell_type": "code",
   "execution_count": null,
   "metadata": {
    "collapsed": true
   },
   "outputs": [],
   "source": []
  }
 ],
 "metadata": {
  "kernelspec": {
   "display_name": "Python 3",
   "language": "python",
   "name": "python3"
  },
  "language_info": {
   "codemirror_mode": {
    "name": "ipython",
    "version": 3
   },
   "file_extension": ".py",
   "mimetype": "text/x-python",
   "name": "python",
   "nbconvert_exporter": "python",
   "pygments_lexer": "ipython3",
   "version": "3.6.3"
  }
 },
 "nbformat": 4,
 "nbformat_minor": 2
}
